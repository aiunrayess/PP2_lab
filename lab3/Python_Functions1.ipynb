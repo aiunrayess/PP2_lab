{
 "cells": [
  {
   "cell_type": "code",
   "execution_count": null,
   "metadata": {},
   "outputs": [],
   "source": []
  },
  {
   "cell_type": "code",
   "execution_count": 5,
   "metadata": {},
   "outputs": [
    {
     "name": "stdout",
     "output_type": "stream",
     "text": [
      "Hello! What is your name?\n",
      "\n",
      "Well, ainur, I am thinking of a number between 1 and 20.\n",
      "Take a guess.\n",
      "Please enter a valid number between 1 and 20.\n",
      "Take a guess.\n",
      "Your guess is too low.\n",
      "Take a guess.\n",
      "Please enter a valid number between 1 and 20.\n",
      "Take a guess.\n",
      "Your guess is too low.\n",
      "Take a guess.\n",
      "Please enter a valid number between 1 and 20.\n",
      "Take a guess.\n",
      "Your guess is too low.\n",
      "Take a guess.\n",
      "Your guess is too low.\n",
      "Take a guess.\n",
      "Please enter a valid number between 1 and 20.\n",
      "Take a guess.\n",
      "Your guess is too low.\n",
      "Take a guess.\n",
      "Your guess is too low.\n",
      "Take a guess.\n",
      "Your guess is too low.\n",
      "Take a guess.\n",
      "Your guess is too low.\n",
      "Take a guess.\n",
      "Please enter a valid number between 1 and 20.\n",
      "Take a guess.\n",
      "Good job, ainur! You guessed my number in 9 guesses!\n"
     ]
    }
   ],
   "source": [
    "import random\n",
    "\n",
    "def guess_the_number():\n",
    "    print(\"Hello! What is your name?\")\n",
    "    name = input()\n",
    "\n",
    "    print(f\"\\nWell, {name}, I am thinking of a number between 1 and 20.\")\n",
    "\n",
    "    secret_number = random.randint(1, 20)\n",
    "    attempts = 0\n",
    "\n",
    "    while True:\n",
    "        print(\"Take a guess.\")\n",
    "        try:\n",
    "            guess = int(input())\n",
    "            attempts += 1\n",
    "\n",
    "            if guess < secret_number:\n",
    "                print(\"Your guess is too low.\")\n",
    "            elif guess > secret_number:\n",
    "                print(\"Your guess is too high.\")\n",
    "            else:\n",
    "                print(f\"Good job, {name}! You guessed my number in {attempts} guesses!\")\n",
    "                break\n",
    "        except ValueError:\n",
    "            print(\"Please enter a valid number between 1 and 20.\")\n",
    "\n",
    "guess_the_number()"
   ]
  },
  {
   "cell_type": "code",
   "execution_count": null,
   "metadata": {},
   "outputs": [],
   "source": []
  },
  {
   "cell_type": "code",
   "execution_count": 4,
   "metadata": {},
   "outputs": [
    {
     "name": "stdout",
     "output_type": "stream",
     "text": [
      "****\n",
      "*********\n",
      "*******\n"
     ]
    }
   ],
   "source": [
    "def histogram(n):\n",
    "    for i in range(len(n)):\n",
    "        print(n[i] * \"*\")\n",
    "\n",
    "n = [4, 9, 7]\n",
    "histogram(n)"
   ]
  },
  {
   "cell_type": "code",
   "execution_count": 1,
   "metadata": {},
   "outputs": [
    {
     "name": "stdout",
     "output_type": "stream",
     "text": [
      "True\n",
      "True\n",
      "False\n",
      "True\n"
     ]
    }
   ],
   "source": [
    "def palindrome(text):\n",
    "    text1 = ''.join(text.lower().split())\n",
    "    return text1 == text1[::-1]\n",
    "\n",
    "print(palindrome(\"madam\"))\n",
    "print(palindrome(\"racecar\"))\n",
    "print(palindrome(\"hello\"))\n",
    "print(palindrome(\"A man a plan a canal Panama\"))\n"
   ]
  },
  {
   "cell_type": "code",
   "execution_count": 6,
   "metadata": {},
   "outputs": [
    {
     "name": "stdout",
     "output_type": "stream",
     "text": [
      "['1', '2', '3', '4', '5']\n"
     ]
    }
   ],
   "source": [
    "def unique(nums):\n",
    "    m = []\n",
    "    n = []\n",
    "    for i in range(len(nums)):\n",
    "        for j in range(i+1, len(nums)):\n",
    "            if nums[i] == nums[j]:\n",
    "                m.append(nums[i])\n",
    "    while len(m) > 0:\n",
    "        while m[0] in nums:\n",
    "            nums.remove(m[0])\n",
    "        m.pop(0)\n",
    "   \n",
    "   \n",
    "    print(nums)\n",
    "nums = []\n",
    "while True:\n",
    "    a = input()\n",
    "    if a == \"Stop\":\n",
    "        break\n",
    "    nums.append(a)\n",
    "    \n",
    "\n",
    "unique(nums)"
   ]
  },
  {
   "cell_type": "code",
   "execution_count": 32,
   "metadata": {},
   "outputs": [
    {
     "name": "stdout",
     "output_type": "stream",
     "text": [
      "195333.12\n"
     ]
    }
   ],
   "source": [
    "def func(rad):\n",
    "    pi = 3.14\n",
    "    vol = 4/3*(pi * (rad**3))\n",
    "    return vol\n",
    "\n",
    "rad = int(input())\n",
    "print(func(rad))"
   ]
  },
  {
   "cell_type": "code",
   "execution_count": 28,
   "metadata": {},
   "outputs": [
    {
     "name": "stdout",
     "output_type": "stream",
     "text": [
      "True\n",
      "True\n",
      "False\n"
     ]
    }
   ],
   "source": [
    "def spy_game(n):\n",
    "    a = 0\n",
    "    m = []\n",
    "    for i in range(len(n)):\n",
    "        if n[i] == 0:\n",
    "            a = i\n",
    "            m.append(n[i])\n",
    "    for i in range(a + 1, len(n)):\n",
    "        if n[i] == 0:\n",
    "            a = i\n",
    "            m.append(n[i])\n",
    "    for i in range(a + 1, len(n)):\n",
    "        if n[i] == 7:\n",
    "            m.append(n[i])\n",
    "    if len(m) == 3:\n",
    "        if m[0] == 0 and m[1] == 0 and m[2] == 7:\n",
    "            return True\n",
    "    else:\n",
    "        return False        \n",
    "            \n",
    "            \n",
    "\n",
    "# n = [1, 0, 2, 4, 6, 0, 4, 7]\n",
    "# print(spy_game(n))\n",
    "print(spy_game([1,2,4,0,0,7,5]))\n",
    "print(spy_game([1,0,2,4,0,5,7]))\n",
    "print(spy_game([1,7,2,0,4,5,0]))"
   ]
  },
  {
   "cell_type": "code",
   "execution_count": 23,
   "metadata": {},
   "outputs": [
    {
     "name": "stdout",
     "output_type": "stream",
     "text": [
      "False\n"
     ]
    }
   ],
   "source": [
    "def has_33(nums):\n",
    "    cnt = 0\n",
    "    for i in range(0, len(nums)-1):\n",
    "        if(nums[i] == 3 and nums[i+1] == 3):\n",
    "            cnt += 1\n",
    "    if (cnt > 0):\n",
    "        return True\n",
    "    else:\n",
    "        return False\n",
    "nums = [1, 2, 3, 4, 3, 3]\n",
    "print(has_33(nums))"
   ]
  },
  {
   "cell_type": "code",
   "execution_count": 11,
   "metadata": {},
   "outputs": [
    {
     "name": "stdout",
     "output_type": "stream",
     "text": [
      "['ready', 'are', 'We']\n"
     ]
    }
   ],
   "source": [
    "\n",
    "def reverse_word(a):\n",
    "    n = a.split(\" \")\n",
    "    n.reverse()\n",
    "    print(n)\n",
    "a = \"We are ready\"\n",
    "reverse_word(a)"
   ]
  },
  {
   "cell_type": "code",
   "execution_count": 4,
   "metadata": {},
   "outputs": [
    {
     "name": "stdout",
     "output_type": "stream",
     "text": [
      "('a', 'b', 'c')\n",
      "('a', 'c', 'b')\n",
      "('b', 'a', 'c')\n",
      "('b', 'c', 'a')\n",
      "('c', 'a', 'b')\n",
      "('c', 'b', 'a')\n"
     ]
    }
   ],
   "source": [
    "\n",
    "from itertools import permutations \n",
    "a = input()\n",
    "def list_permutation(a):\n",
    "    perm = permutations(a) \n",
    "\n",
    "    for i in list(perm): \n",
    "        print (i) \n",
    "list_permutation(a)\n",
    "\n"
   ]
  },
  {
   "cell_type": "code",
   "execution_count": 3,
   "metadata": {},
   "outputs": [
    {
     "name": "stdout",
     "output_type": "stream",
     "text": [
      "[67, 79, 233, 13]\n"
     ]
    }
   ],
   "source": [
    "n = []\n",
    "while (True):\n",
    "    i = int(input())\n",
    "    if(i == 0):\n",
    "        break\n",
    "    n.append(i)\n",
    "def prime(n):\n",
    "    n1 = []\n",
    "    for i in range(len(n)):\n",
    "        if n[i] == 2:\n",
    "            n1.append(n[i])\n",
    "        elif n[i] % 2 != 0 and n[i] > 1:\n",
    "            cnt = 0\n",
    "            for j in range(2, n[i]):\n",
    "                if n[i] % j == 0:\n",
    "                    cnt += 1\n",
    "                    break\n",
    "            if cnt == 0:\n",
    "                n1.append(n[i])\n",
    "    return n1\n",
    "numbers = prime(n)\n",
    "print(numbers)\n"
   ]
  },
  {
   "cell_type": "code",
   "execution_count": 15,
   "metadata": {},
   "outputs": [
    {
     "name": "stdout",
     "output_type": "stream",
     "text": [
      "Chicken = 23\n",
      "Rabbits = 12\n"
     ]
    }
   ],
   "source": [
    "def solve(numhead,numlegs):\n",
    "    if (numlegs > numhead and numlegs > 0 and numhead > 0):\n",
    "        chicken = (2 * numhead) - (numlegs/2)\n",
    "        print(f\"Chicken = {int(chicken)}\")\n",
    "        rabbits = (numlegs/2) - numhead\n",
    "        print(f\"Rabbits = {int(rabbits)}\")\n",
    "numlegs = 94\n",
    "numhead = 35\n",
    "if(numlegs < numhead):\n",
    "    print(\"Error\")\n",
    "if(numlegs == 0 or numhead == 0):\n",
    "    print(\"Error\")\n",
    "solve(numhead,numlegs)"
   ]
  },
  {
   "cell_type": "code",
   "execution_count": 14,
   "metadata": {},
   "outputs": [
    {
     "name": "stdout",
     "output_type": "stream",
     "text": [
      "Farenheit into Celsius is: 112\n"
     ]
    }
   ],
   "source": [
    "def convertion(F):\n",
    "    C = (5 / 9) * (F - 32)\n",
    "    return int(C)\n",
    "F = int(input(\"Enter Farenheit: \"))\n",
    "print(f\"Farenheit into Celsius is: {convertion(F)}\")\n",
    "\n"
   ]
  },
  {
   "cell_type": "code",
   "execution_count": null,
   "metadata": {},
   "outputs": [],
   "source": [
    "def gram_ounces(gram):\n",
    "    ounces = 28.3495231 * gram\n",
    "    return int(ounces)\n",
    "gram = int(input(\"Enter grams: \"))\n",
    "ounces = gram_ounces(gram)\n",
    "print(f\"{gram} gramm into ounces are {ounces}\")"
   ]
  }
 ],
 "metadata": {
  "kernelspec": {
   "display_name": "Python 3",
   "language": "python",
   "name": "python3"
  },
  "language_info": {
   "codemirror_mode": {
    "name": "ipython",
    "version": 3
   },
   "file_extension": ".py",
   "mimetype": "text/x-python",
   "name": "python",
   "nbconvert_exporter": "python",
   "pygments_lexer": "ipython3",
   "version": "3.12.9"
  }
 },
 "nbformat": 4,
 "nbformat_minor": 2
}
