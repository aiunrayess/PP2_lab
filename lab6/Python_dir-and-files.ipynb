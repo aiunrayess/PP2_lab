{
 "cells": [
  {
   "cell_type": "code",
   "execution_count": 33,
   "metadata": {},
   "outputs": [
    {
     "name": "stdout",
     "output_type": "stream",
     "text": [
      "The file 'c:\\Users\\damir\\pp2_lab\\lab6\\G.txt' has been deleted.\n"
     ]
    }
   ],
   "source": [
    "import os\n",
    "\n",
    "def delete_file(file_path):\n",
    "    if os.path.exists(file_path):\n",
    "        if os.access(file_path, os.W_OK):\n",
    "            os.remove(file_path)\n",
    "            print(f\"The file '{file_path}' has been deleted.\")\n",
    "        else:\n",
    "            print(f\"You do not have permission to delete the file '{file_path}'.\")\n",
    "    else:\n",
    "        print(f\"The file '{file_path}' does not exist.\")\n",
    "\n",
    "# Example usage\n",
    "file_path = input(\"Enter the path of the file to delete: \")\n",
    "delete_file(file_path)"
   ]
  },
  {
   "cell_type": "code",
   "execution_count": 32,
   "metadata": {},
   "outputs": [
    {
     "name": "stdout",
     "output_type": "stream",
     "text": [
      "Contents of list.txt have been copied to destination.txt.\n"
     ]
    }
   ],
   "source": [
    "src = 'list.txt'\n",
    "dst = 'destination.txt'\n",
    "\n",
    "with open(src, 'r') as file:\n",
    "    a = file.read()\n",
    "\n",
    "with open(dst, 'w') as b:\n",
    "    b.write(a)\n",
    "\n",
    "print(f\"Contents of {src} have been copied to {dst}.\")"
   ]
  },
  {
   "cell_type": "code",
   "execution_count": 30,
   "metadata": {},
   "outputs": [],
   "source": [
    "for i in 'ABCDEFGHIJKLMNOPQRSTUVWXYZ':\n",
    "    with open(f\"{i}.txt\", 'w') as file:\n",
    "        file.write(f\"{i}.txt\")"
   ]
  },
  {
   "cell_type": "code",
   "execution_count": 28,
   "metadata": {},
   "outputs": [
    {
     "name": "stdout",
     "output_type": "stream",
     "text": [
      "Mazda\n",
      "Koeningsegg\n",
      "Zenvo\n",
      "Aston Martin\n"
     ]
    }
   ],
   "source": [
    "list = ['Mazda', 'Koeningsegg', 'Zenvo', 'Aston Martin']\n",
    "file_path = 'list.txt'\n",
    "\n",
    "with open(file_path, 'w') as file:\n",
    "    for i in list:\n",
    "        file.write(f\"{i}\\n\")\n",
    "file.close()\n",
    "\n",
    "with open(file_path, 'r') as file:\n",
    "    for line in file:\n",
    "        print(line.strip())\n",
    "\n",
    "\n"
   ]
  },
  {
   "cell_type": "code",
   "execution_count": 26,
   "metadata": {},
   "outputs": [
    {
     "name": "stdout",
     "output_type": "stream",
     "text": [
      "The number of lines in the file is: 3\n"
     ]
    }
   ],
   "source": [
    "file_path = 'a_file.txt'\n",
    "with open(file_path, 'w') as file:\n",
    "    file.write(\"Wiwiwi\\n\")\n",
    "    file.write(\"Bingchiling\\n\")\n",
    "    file.write(\"ABUNDA LAKAKA\")\n",
    "file.close()\n",
    "with open(file_path, 'r') as file:\n",
    "    line_count = sum(1 for line in file)\n",
    "\n",
    "print(f\"The number of lines in the file is: {line_count}\")"
   ]
  },
  {
   "cell_type": "code",
   "execution_count": 10,
   "metadata": {},
   "outputs": [
    {
     "name": "stdout",
     "output_type": "stream",
     "text": [
      "The path 'c:\\Users\\damir\\pp2_lab\\lab6' exists.\n",
      "Directory portion: c:\\Users\\damir\\pp2_lab\n",
      "Filename portion: lab6\n"
     ]
    }
   ],
   "source": [
    "import os\n",
    "\n",
    "path = 'c:\\\\Users\\\\damir\\\\pp2_lab\\\\lab6'\n",
    "\n",
    "if os.path.exists(path):\n",
    "    print(f\"The path '{path}' exists.\")\n",
    "    directory = os.path.dirname(path)\n",
    "    print(f\"Directory portion: {directory}\")\n",
    "    filename = os.path.basename(path)\n",
    "    print(f\"Filename portion: {filename}\")\n",
    "else:\n",
    "    print(f\"The path '{path}' does not exist.\")\n"
   ]
  },
  {
   "cell_type": "code",
   "execution_count": 9,
   "metadata": {},
   "outputs": [
    {
     "name": "stdout",
     "output_type": "stream",
     "text": [
      "Path exists: True\n",
      "Path is readable: True\n",
      "Path is writable: True\n",
      "Path is executable: True\n"
     ]
    }
   ],
   "source": [
    "import os\n",
    "\n",
    "path = input(\"Enter the path: \")\n",
    "\n",
    "exists = os.path.exists(path)\n",
    "readable = os.access(path, os.R_OK)\n",
    "writable = os.access(path, os.W_OK)\n",
    "executable = os.access(path, os.X_OK)\n",
    "\n",
    "print(f\"Path exists: {exists}\")\n",
    "print(f\"Path is readable: {readable}\")\n",
    "print(f\"Path is writable: {writable}\")\n",
    "print(f\"Path is executable: {executable}\")"
   ]
  },
  {
   "cell_type": "code",
   "execution_count": 8,
   "metadata": {},
   "outputs": [
    {
     "name": "stdout",
     "output_type": "stream",
     "text": [
      "c:\\Users\\damir\\pp2_lab\\lab6\n",
      "Directories:\n",
      "\n",
      "Files:\n",
      "Python_Builtin-functions.ipynb\n",
      "Python_dir-and-files.ipynb\n",
      "\n",
      "All items:\n",
      "Python_Builtin-functions.ipynb\n",
      "Python_dir-and-files.ipynb\n"
     ]
    }
   ],
   "source": [
    "import os\n",
    "print(os.getcwd())\n",
    "path = input(\"Enter the path: \")\n",
    "\n",
    "\n",
    "directories = []\n",
    "files = []\n",
    "all_items = []\n",
    "\n",
    "for item in os.listdir(path):\n",
    "    item_path = os.path.join(path, item)\n",
    "    if os.path.isdir(item_path):\n",
    "        directories.append(item)\n",
    "    elif os.path.isfile(item_path):\n",
    "        files.append(item)\n",
    "    all_items.append(item)\n",
    "\n",
    "print(\"Directories:\")\n",
    "for directory in directories:\n",
    "    print(directory)\n",
    "\n",
    "print(\"\\nFiles:\")\n",
    "for file in files:\n",
    "    print(file)\n",
    "\n",
    "print(\"\\nAll items:\")\n",
    "for item in all_items:\n",
    "    print(item)\n",
    "\n"
   ]
  }
 ],
 "metadata": {
  "kernelspec": {
   "display_name": "Python 3",
   "language": "python",
   "name": "python3"
  },
  "language_info": {
   "codemirror_mode": {
    "name": "ipython",
    "version": 3
   },
   "file_extension": ".py",
   "mimetype": "text/x-python",
   "name": "python",
   "nbconvert_exporter": "python",
   "pygments_lexer": "ipython3",
   "version": "3.12.9"
  }
 },
 "nbformat": 4,
 "nbformat_minor": 2
}
