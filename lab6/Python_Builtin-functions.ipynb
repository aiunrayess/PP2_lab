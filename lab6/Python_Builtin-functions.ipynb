{
 "cells": [
  {
   "cell_type": "code",
   "execution_count": 10,
   "metadata": {},
   "outputs": [
    {
     "name": "stdout",
     "output_type": "stream",
     "text": [
      "True\n"
     ]
    }
   ],
   "source": [
    "a = (1, 3, 5, 6, 2)\n",
    "b = all(a)\n",
    "\n",
    "print(b)"
   ]
  },
  {
   "cell_type": "code",
   "execution_count": null,
   "metadata": {},
   "outputs": [
    {
     "name": "stdout",
     "output_type": "stream",
     "text": [
      "Square root of 25100 after 2123 milliseconds is 158.42979517754858\n"
     ]
    }
   ],
   "source": [
    "#4\n",
    "\n",
    "import time\n",
    "a = 25100\n",
    "b = 2123\n",
    "time.sleep(b/1000)\n",
    "\n",
    "print(f\"Square root of {a} after {b} milliseconds is {a**(1/2)}\")"
   ]
  },
  {
   "cell_type": "code",
   "execution_count": null,
   "metadata": {},
   "outputs": [
    {
     "name": "stdout",
     "output_type": "stream",
     "text": [
      "asddsa\n",
      "It is palindrome\n"
     ]
    }
   ],
   "source": [
    "#3\n",
    "a = input()\n",
    "c = \"\".join(reversed(a))\n",
    "\n",
    "print(a)\n",
    "\n",
    "if a == c:\n",
    "    print(\"It is palindrome\")\n",
    "    \n",
    "else:\n",
    "    print(\"It is not palindrome\")"
   ]
  },
  {
   "cell_type": "code",
   "execution_count": 22,
   "metadata": {},
   "outputs": [
    {
     "name": "stdout",
     "output_type": "stream",
     "text": [
      "asddsaASD\n",
      "6  - low, 3  - up\n"
     ]
    }
   ],
   "source": [
    "#2\n",
    "a = input()\n",
    "\n",
    "print(a)\n",
    "print(sum(1 for i in a if i.islower()), \" - low,\", sum(1 for j in a if j.isupper()), \" - up\")"
   ]
  },
  {
   "cell_type": "code",
   "execution_count": 11,
   "metadata": {},
   "outputs": [
    {
     "name": "stdout",
     "output_type": "stream",
     "text": [
      "576\n"
     ]
    }
   ],
   "source": [
    "#1\n",
    "import math\n",
    "list_A = [1, 3, 4, 6, 2, 4]\n",
    "\n",
    "print(math.prod(list_A))"
   ]
  }
 ],
 "metadata": {
  "kernelspec": {
   "display_name": "Python 3",
   "language": "python",
   "name": "python3"
  },
  "language_info": {
   "codemirror_mode": {
    "name": "ipython",
    "version": 3
   },
   "file_extension": ".py",
   "mimetype": "text/x-python",
   "name": "python",
   "nbconvert_exporter": "python",
   "pygments_lexer": "ipython3",
   "version": "3.12.9"
  }
 },
 "nbformat": 4,
 "nbformat_minor": 2
}
