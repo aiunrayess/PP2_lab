{
 "cells": [
  {
   "cell_type": "code",
   "execution_count": 9,
   "metadata": {},
   "outputs": [
    {
     "name": "stdout",
     "output_type": "stream",
     "text": [
      "The area of the parallelogram is 30\n"
     ]
    }
   ],
   "source": [
    "import math\n",
    "\n",
    "def parallelogram_area(l, h):\n",
    "    area = l * h\n",
    "    return area\n",
    "\n",
    "l = int(input(\"Input the length of a base\"))\n",
    "h = int(input(\"Input the height of the parallelogram\"))\n",
    "print(\"The area of the parallelogram is\", parallelogram_area(l, h))"
   ]
  },
  {
   "cell_type": "code",
   "execution_count": 8,
   "metadata": {},
   "outputs": [
    {
     "name": "stdout",
     "output_type": "stream",
     "text": [
      "625\n"
     ]
    }
   ],
   "source": [
    "from math import tan, pi\n",
    "def polygon_area(n, s):\n",
    "    return round(0.25 * n * s ** 2 / (tan(pi / n)))\n",
    "\n",
    "n = int(input(\"Enter the number of sides: \"))\n",
    "s = int(input(\"Enter the length of each side: \"))\n",
    "print(polygon_area(n, s)) "
   ]
  },
  {
   "cell_type": "code",
   "execution_count": 4,
   "metadata": {},
   "outputs": [
    {
     "name": "stdout",
     "output_type": "stream",
     "text": [
      "The area is: 27.5\n"
     ]
    }
   ],
   "source": [
    "def trapezoid_area(height, a, b):\n",
    "    return height * (a + b) / 2\n",
    "\n",
    "height = int(input(\"Enter the height of the trapezoid: \"))\n",
    "a = int(input(\"Enter the length of the bottom base: \"))\n",
    "b = int(input(\"Enter the length of the top base: \"))\n",
    "\n",
    "print(\"The area is:\", trapezoid_area(height, a, b))"
   ]
  },
  {
   "cell_type": "code",
   "execution_count": 2,
   "metadata": {},
   "outputs": [
    {
     "name": "stdout",
     "output_type": "stream",
     "text": [
      "0.261799\n"
     ]
    }
   ],
   "source": [
    "import math\n",
    "deg = int(input())\n",
    "rad = deg * math.pi / 180\n",
    "print(round(rad, 6))"
   ]
  }
 ],
 "metadata": {
  "kernelspec": {
   "display_name": "Python 3",
   "language": "python",
   "name": "python3"
  },
  "language_info": {
   "codemirror_mode": {
    "name": "ipython",
    "version": 3
   },
   "file_extension": ".py",
   "mimetype": "text/x-python",
   "name": "python",
   "nbconvert_exporter": "python",
   "pygments_lexer": "ipython3",
   "version": "3.12.9"
  }
 },
 "nbformat": 4,
 "nbformat_minor": 2
}
