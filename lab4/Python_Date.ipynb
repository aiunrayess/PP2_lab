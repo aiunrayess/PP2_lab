{
 "cells": [
  {
   "cell_type": "code",
   "execution_count": 149,
   "metadata": {},
   "outputs": [
    {
     "name": "stdout",
     "output_type": "stream",
     "text": [
      "934860\n"
     ]
    }
   ],
   "source": [
    "from datetime import datetime, timedelta\n",
    "import datetime\n",
    "y = int(input(\"Input a year: \"))\n",
    "m = int(input(\"Input a month: \"))\n",
    "d = int(input(\"Input a day: \"))\n",
    "h = int(input(\"Import hours: \"))\n",
    "M = int(input(\"Import minutes\"))\n",
    "s = int(input(\"Input seconds: \"))\n",
    "\n",
    "a = datetime.datetime.now()\n",
    "b = datetime.datetime(y, m, d, h, M, s)\n",
    "\n",
    "delta = a - b\n",
    "print(int(delta.total_seconds())) "
   ]
  },
  {
   "cell_type": "code",
   "execution_count": 127,
   "metadata": {},
   "outputs": [
    {
     "name": "stdout",
     "output_type": "stream",
     "text": [
      "Microseconds:  609602\n"
     ]
    }
   ],
   "source": [
    "from datetime import datetime\n",
    "\n",
    "a = datetime.now()\n",
    "print(\"Microseconds: \", a.strftime(\"%f\"))"
   ]
  },
  {
   "cell_type": "code",
   "execution_count": 8,
   "metadata": {},
   "outputs": [
    {
     "name": "stdout",
     "output_type": "stream",
     "text": [
      "Yesterday date:  2025-02-10\n",
      "Today date:  2025-02-11\n",
      "Tomorrow date:  2025-02-12\n"
     ]
    }
   ],
   "source": [
    "from datetime import datetime, timedelta\n",
    "\n",
    "a = datetime.now()\n",
    "b = a - timedelta(days = 1)\n",
    "c = a + timedelta(days = 1)\n",
    "\n",
    "\n",
    "\n",
    "print(\"Yesterday date: \", b.strftime(\"%Y-%m-%d\"))\n",
    "print(\"Today date: \", a.strftime(\"%Y-%m-%d\"))\n",
    "print(\"Tomorrow date: \", c.strftime(\"%Y-%m-%d\"))\n",
    "\n"
   ]
  },
  {
   "cell_type": "code",
   "execution_count": 31,
   "metadata": {},
   "outputs": [
    {
     "name": "stdout",
     "output_type": "stream",
     "text": [
      "Current date:  2025-02-11\n",
      "Date substracting 5 days:  2025-02-06\n"
     ]
    }
   ],
   "source": [
    "from datetime import datetime, timedelta\n",
    "n = int(input())\n",
    "a = datetime.now()\n",
    "\n",
    "b = a - timedelta(days = n)\n",
    "\n",
    "print(\"Current date: \", a.strftime(\"%Y-%m-%d\"))\n",
    "print(f\"Date substracting {n} days: \", b.strftime('%Y-%m-%d'))"
   ]
  }
 ],
 "metadata": {
  "kernelspec": {
   "display_name": "Python 3",
   "language": "python",
   "name": "python3"
  },
  "language_info": {
   "codemirror_mode": {
    "name": "ipython",
    "version": 3
   },
   "file_extension": ".py",
   "mimetype": "text/x-python",
   "name": "python",
   "nbconvert_exporter": "python",
   "pygments_lexer": "ipython3",
   "version": "3.12.9"
  }
 },
 "nbformat": 4,
 "nbformat_minor": 2
}
