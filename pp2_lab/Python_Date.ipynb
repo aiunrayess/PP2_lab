{
 "cells": [
  {
   "cell_type": "code",
   "execution_count": null,
   "metadata": {},
   "outputs": [],
   "source": []
  },
  {
   "cell_type": "code",
   "execution_count": 31,
   "metadata": {},
   "outputs": [
    {
     "name": "stdout",
     "output_type": "stream",
     "text": [
      "Current date:  2025-02-11\n",
      "Date substracting 5 days:  2025-02-06\n"
     ]
    }
   ],
   "source": [
    "from datetime import datetime, timedelta\n",
    "n = int(input())\n",
    "a = datetime.now()\n",
    "\n",
    "b = a - timedelta(days = n)\n",
    "\n",
    "print(\"Current date: \", a.strftime(\"%Y-%m-%d\"))\n",
    "print(f\"Date substracting {n} days: \", b.strftime('%Y-%m-%d'))"
   ]
  }
 ],
 "metadata": {
  "kernelspec": {
   "display_name": "Python 3",
   "language": "python",
   "name": "python3"
  },
  "language_info": {
   "codemirror_mode": {
    "name": "ipython",
    "version": 3
   },
   "file_extension": ".py",
   "mimetype": "text/x-python",
   "name": "python",
   "nbconvert_exporter": "python",
   "pygments_lexer": "ipython3",
   "version": "3.12.9"
  }
 },
 "nbformat": 4,
 "nbformat_minor": 2
}
