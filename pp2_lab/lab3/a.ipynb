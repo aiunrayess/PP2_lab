{
 "cells": [
  {
   "cell_type": "code",
   "execution_count": null,
   "metadata": {},
   "outputs": [],
   "source": [
    "a = set()\n",
    "\n",
    "while True:\n",
    "    n = input(\"Enter a number you want to add to a set: \")\n",
    "    if n == \"Stop\":\n",
    "        break\n",
    "    a.add(int(n))\n",
    "    \n",
    "b = int(input(\"Enter a number you want to find: \"))\n",
    "\n",
    "m = list(a)\n",
    "val = False\n",
    "for i in range(len(m)):\n",
    "    if b == m[i]:\n",
    "        val = True\n",
    "print(val)"
   ]
  },
  {
   "cell_type": "code",
   "execution_count": null,
   "metadata": {},
   "outputs": [],
   "source": [
    "class Calculator:\n",
    "    def __init__(self, x, y):\n",
    "        self.x = x\n",
    "        self.y = y\n",
    "    \n",
    "    def addition(self, x, y):\n",
    "        result = x + y\n",
    "        print (f\"x + y = {result}\")\n",
    "        \n",
    "    def substraction(self, x, y):\n",
    "        result = x - y\n",
    "        print (f\"x - y = {result}\")\n",
    "    \n",
    "    def multiplication(self, x, y):\n",
    "        result = x * y\n",
    "        print (f\"x * y = {result}\")\n",
    "    \n",
    "    def division(self, x, y):\n",
    "        result = x / y\n",
    "        print (f\"x / y = {result}\")\n",
    "        \n",
    "    def __str__(self):\n",
    "        return f\"Session ended\"\n",
    "    \n",
    "a = Calculator(0, 0)\n",
    "a.addition(8, 2)\n",
    "a.division(4,2)\n",
    "print(a)\n",
    "\n",
    "    "
   ]
  }
 ],
 "metadata": {
  "kernelspec": {
   "display_name": "Python 3",
   "language": "python",
   "name": "python3"
  },
  "language_info": {
   "name": "python",
   "version": "3.12.9"
  }
 },
 "nbformat": 4,
 "nbformat_minor": 2
}
