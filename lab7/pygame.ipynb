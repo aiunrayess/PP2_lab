{
 "cells": [
  {
   "cell_type": "code",
   "execution_count": null,
   "metadata": {},
   "outputs": [],
   "source": [
    "import pygame\n",
    "from datetime import datetime\n",
    "\n",
    "pygame.init()\n",
    "surface = pygame.display.set_mode(1200, 800)\n",
    "clock = pygame.time.Clock()\n",
    "\n",
    "font = pygame.font.Font('Times New Roman', 200)\n",
    "\n",
    "while True:\n",
    "    for event in pygame.event.get():\n",
    "        if  event.type == pygame.QUIT:\n",
    "            exit()"
   ]
  },
  {
   "cell_type": "code",
   "execution_count": null,
   "metadata": {},
   "outputs": [
    {
     "ename": "SystemExit",
     "evalue": "",
     "output_type": "error",
     "traceback": [
      "An exception has occurred, use %tb to see the full traceback.\n",
      "\u001b[31mSystemExit\u001b[39m\n"
     ]
    },
    {
     "name": "stderr",
     "output_type": "stream",
     "text": [
      "/Users/ainurok/Library/Python/3.13/lib/python/site-packages/IPython/core/interactiveshell.py:3557: UserWarning: To exit: use 'exit', 'quit', or Ctrl-D.\n",
      "  warn(\"To exit: use 'exit', 'quit', or Ctrl-D.\", stacklevel=1)\n"
     ]
    },
    {
     "ename": "",
     "evalue": "",
     "output_type": "error",
     "traceback": [
      "\u001b[1;31mThe Kernel crashed while executing code in the current cell or a previous cell. \n",
      "\u001b[1;31mPlease review the code in the cell(s) to identify a possible cause of the failure. \n",
      "\u001b[1;31mClick <a href='https://aka.ms/vscodeJupyterKernelCrash'>here</a> for more info. \n",
      "\u001b[1;31mView Jupyter <a href='command:jupyter.viewOutput'>log</a> for further details."
     ]
    }
   ],
   "source": [
    "import pygame\n",
    "import sys\n",
    "\n",
    "pygame.init()\n",
    "\n",
    "screen_width = 800\n",
    "screen_height = 600\n",
    "\n",
    "screen = pygame.display.set_mode((screen_width, screen_height))\n",
    "\n",
    "player = pygame.Rect((300, 250), (50, 50))\n",
    "\n",
    "run = True\n",
    "\n",
    "while run:\n",
    "\n",
    "    screen.fill((0,0,0))\n",
    "\n",
    "    pygame.draw.rect(screen, (255, 0, 0), player)\n",
    "\n",
    "    key = pygame.key.get_pressed()\n",
    "    if key[pygame.K_a] == True:\n",
    "        player.move_ip(-1, 0)\n",
    "    if key[pygame.K_d] == True:\n",
    "        player.move_ip(1, 0)\n",
    "    if key[pygame.K_w] == True:\n",
    "        player.move_ip(0, -1)\n",
    "    if key[pygame.K_s] == True:\n",
    "        player.move_ip(0, 1)\n",
    "\n",
    "    for event in pygame.event.get():\n",
    "        if event.type == pygame.QUIT:\n",
    "            run = False\n",
    "\n",
    "    pygame.display.update()\n",
    "\n",
    "pygame.quit()\n",
    "sys.exit()"
   ]
  }
 ],
 "metadata": {
  "kernelspec": {
   "display_name": "Python 3",
   "language": "python",
   "name": "python3"
  },
  "language_info": {
   "codemirror_mode": {
    "name": "ipython",
    "version": 3
   },
   "file_extension": ".py",
   "mimetype": "text/x-python",
   "name": "python",
   "nbconvert_exporter": "python",
   "pygments_lexer": "ipython3",
   "version": "3.13.2"
  }
 },
 "nbformat": 4,
 "nbformat_minor": 2
}
